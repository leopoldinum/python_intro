{
 "cells": [
  {
   "cell_type": "markdown",
   "metadata": {},
   "source": [
    "# 6. Wrap-Up\n",
    "\n",
    "# One more thing: virtual environments\n",
    "\n",
    "Some good questions were raise about version control on our call with OTIM on 7/8/20. The concern underlying these questions was that Python projects by default use the same directories to store and receive packages/libraries.\n",
    "\n",
    "Suppose we work on a Python project in 2020 and revisit it in 2021, and suppose that in the meantime there was a Python version update (and/or a material update to a third-party package). It is possible that the 2021 environment is no longer compatible with the 2020 project.\n",
    "\n",
    "There is a workaround to this problem, which is to work on any Python based project in its own virtual environment. This means that the dependences of every Python project will be kept seperate from the dependencies of another project. \n",
    "\n",
    "To isolate a project's dependencies, we can use a module named <b>virtualenv</b>, which will allow us to create a folder containing all executables required by the project.\n",
    "\n",
    "Virtual environments are compatible with Jupyter and Anaconda.\n",
    "\n",
    "Source: \n",
    "* <a href=\"https://www.geeksforgeeks.org/python-virtual-environment/\">Geeks for geeks: Python Virtual Environment</a>\n",
    "* <a href=\"https://janakiev.com/blog/jupyter-virtual-envs/\">Data science blog: Using Virtual Environments in Jupyter Notebooks and Python</a>\n",
    "\n",
    "\n",
    "# Questions\n",
    "\n",
    "1. Does Python appear to offer any value added (vs. R/MATLAB/SAS)?\n",
    "* Do you have any concerns or unanswered questions about Python?\n",
    "* What resources can I connect the branch with to help reduce the pain/inefficiency of starting to use Python?\n",
    "* What can I do to help the branch prepare to use Python?\n",
    "\n",
    "# Topics for future discussions\n",
    "\n",
    "1. \n",
    "*\n",
    "*\n",
    "*\n",
    "\n",
    "## Links\n",
    "Here is list of sites related to the content of the preceding notebooks.\n",
    "\n",
    "* <a href=\"https://plotly.com/python/\">Plotly library</a>\n",
    "* <a href=\"https://nbviewer.jupyter.org/github/bokeh/bokeh-notebooks/blob/master/tutorial/06%20-%20Linking%20and%20Interactions.ipynb\">Bokeh (another visualization library)</a>\n",
    "* <a href=\"https://scikit-learn.org/stable/\">scikit-learn documentation</a>\n",
    "* <a href=\"https://scikit-learn.org/stable/auto_examples/index.html\">scikit-learn examples</a>\n",
    "* <a href=\"https://bugs.python.org/file47781/Tutorial_EDIT.pdf\">Tutorial by creator of Python</a>\n",
    "* <a href=\"https://voxeu.org/content/which-numerical-computing-language-best-julia-matlab-python-or-r\">Article comparing R/Matlab/Python for numerical computations</a>\n",
    "* <a href=\"https://github.com/LearnDataSci/article-resources/tree/master/Python%20Pandas%20Tutorial%20A%20Complete%20Introduction%20for%20Beginners\">Pandas tutorial</a>\n",
    "* <a href=\"https://github.com/yhilpisch/py4fi/tree/master/jupyter36\">***Python for finance notebooks***</a>\n",
    "\n"
   ]
  },
  {
   "cell_type": "code",
   "execution_count": null,
   "metadata": {},
   "outputs": [],
   "source": []
  }
 ],
 "metadata": {
  "kernelspec": {
   "display_name": "Python 3",
   "language": "python",
   "name": "python3"
  },
  "language_info": {
   "codemirror_mode": {
    "name": "ipython",
    "version": 3
   },
   "file_extension": ".py",
   "mimetype": "text/x-python",
   "name": "python",
   "nbconvert_exporter": "python",
   "pygments_lexer": "ipython3",
   "version": "3.7.6"
  }
 },
 "nbformat": 4,
 "nbformat_minor": 4
}
