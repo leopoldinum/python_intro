{
 "cells": [
  {
   "cell_type": "markdown",
   "metadata": {},
   "source": [
    "# 2. Jupyter and Python Basics\n",
    "\n",
    "This section introduces Jupyter Notebooks and the basics of Python.\n",
    "\n",
    "## Why Jupyter Notebooks\n",
    "\n",
    "Jupyter Notebooks...\n",
    "* are free and open-source\n",
    "* support Python, R, markdown cells, LaTeX, and more\n",
    "* allow many types of exports (text files, PDF, HTML)\n",
    "* are interactive \n",
    "* make debugging easy"
   ]
  },
  {
   "cell_type": "markdown",
   "metadata": {},
   "source": [
    "## Basics of Python Programming <a class=\"anchor\" id=\"syntax-bullet\"></a>\n",
    "\n",
    "Like with any programming language, it is useful to know a few things before getting started with Python.\n",
    "\n",
    "### Getting Started\n",
    "\n",
    "A Jupyter Notebook is organized into cells. Cells can contain markdown or code. The current cell contains markdown, and we are going to add some code to the next cell."
   ]
  },
  {
   "cell_type": "code",
   "execution_count": 1,
   "metadata": {},
   "outputs": [
    {
     "name": "stdout",
     "output_type": "stream",
     "text": [
      "Hello world\n"
     ]
    }
   ],
   "source": [
    "print(\"Hello world\")"
   ]
  },
  {
   "cell_type": "markdown",
   "metadata": {},
   "source": [
    "### Indentation\n",
    "Multi-line statements require indentation. Tabs or spaces are fine, but Python requires consistency.\n",
    "\n",
    "### Variables \n",
    "There is no command to create a variable. Just name it and go.\n"
   ]
  },
  {
   "cell_type": "code",
   "execution_count": 2,
   "metadata": {},
   "outputs": [
    {
     "data": {
      "text/plain": [
       "3"
      ]
     },
     "execution_count": 2,
     "metadata": {},
     "output_type": "execute_result"
    }
   ],
   "source": [
    "z=0\n",
    "for x in range(1,2):\n",
    "    z += x\n",
    "    for y in range(3,4):\n",
    "        z*=y\n",
    "z"
   ]
  },
  {
   "cell_type": "markdown",
   "metadata": {},
   "source": [
    "### Data Types\n",
    "\n",
    "Data types in Python are straightforward:\n",
    "\n",
    "| Category | Data Type(s) |\n",
    "| :- | :- |\n",
    "| Text | str |\n",
    "| Numeric | int, float, complex |\n",
    "| Sequence | list, tuple, range |\n",
    "| Mapping | dict |\n",
    "| Set | set, frozenset |\n",
    "| Boolean | bool |\n",
    "| Binary | bytes, bytearray, memoryview |\n",
    "\n",
    "### Casting\n",
    "\n",
    "You can cast a variable as another type in standard fashion:"
   ]
  },
  {
   "cell_type": "code",
   "execution_count": 3,
   "metadata": {},
   "outputs": [
    {
     "data": {
      "text/plain": [
       "0"
      ]
     },
     "execution_count": 3,
     "metadata": {},
     "output_type": "execute_result"
    }
   ],
   "source": [
    "# assign variables\n",
    "w=3.1\n",
    "x=3\n",
    "y=True\n",
    "\n",
    "# return operation on recasted variables\n",
    "z=int(x)+float(y)+3*int(z)\n",
    "int(z)\n",
    "\n",
    "a = '0'\n",
    "int(a)"
   ]
  },
  {
   "cell_type": "markdown",
   "metadata": {},
   "source": [
    "### Lists\n",
    "\n",
    "Here's an example of a Python list:"
   ]
  },
  {
   "cell_type": "code",
   "execution_count": 4,
   "metadata": {},
   "outputs": [],
   "source": [
    "mylist = ['Student', 'Exam 1', 'Exam 2', 'Exam 3']"
   ]
  },
  {
   "cell_type": "markdown",
   "metadata": {},
   "source": [
    "#### Indexing\n",
    "Indexing is simple - as long as you know to start from 0!"
   ]
  },
  {
   "cell_type": "code",
   "execution_count": 5,
   "metadata": {},
   "outputs": [
    {
     "data": {
      "text/plain": [
       "'Student'"
      ]
     },
     "execution_count": 5,
     "metadata": {},
     "output_type": "execute_result"
    }
   ],
   "source": [
    "mylist[0]"
   ]
  },
  {
   "cell_type": "markdown",
   "metadata": {},
   "source": [
    "#### (Negative) Indexing\n",
    "Negative indexing allows for accessing elements at the end of a list:"
   ]
  },
  {
   "cell_type": "code",
   "execution_count": 6,
   "metadata": {},
   "outputs": [
    {
     "data": {
      "text/plain": [
       "'Exam 3'"
      ]
     },
     "execution_count": 6,
     "metadata": {},
     "output_type": "execute_result"
    }
   ],
   "source": [
    "mylist[-1]"
   ]
  },
  {
   "cell_type": "markdown",
   "metadata": {},
   "source": [
    "### Dictionaries\n",
    "\n",
    "Dictionaries are a useful data type. They are basically a mapping of keys to values."
   ]
  },
  {
   "cell_type": "code",
   "execution_count": 7,
   "metadata": {},
   "outputs": [],
   "source": [
    "mydict = {\n",
    "    \"City\" : \"Washington\",\n",
    "    \"State\" : \"DC\", \n",
    "    \"Zip\" : 20005\n",
    "}"
   ]
  },
  {
   "cell_type": "markdown",
   "metadata": {},
   "source": [
    "It can take a while to get used to dictionaries. To see this, let's try to print mydict:"
   ]
  },
  {
   "cell_type": "code",
   "execution_count": 8,
   "metadata": {
    "scrolled": true
   },
   "outputs": [
    {
     "name": "stdout",
     "output_type": "stream",
     "text": [
      "City\n",
      "State\n",
      "Zip\n"
     ]
    }
   ],
   "source": [
    "for x in mydict:\n",
    "    print(x)"
   ]
  },
  {
   "cell_type": "markdown",
   "metadata": {},
   "source": [
    "We printed the keys, not the values. Let's try again:"
   ]
  },
  {
   "cell_type": "code",
   "execution_count": 9,
   "metadata": {},
   "outputs": [
    {
     "name": "stdout",
     "output_type": "stream",
     "text": [
      "Washington\n",
      "DC\n",
      "20005\n"
     ]
    }
   ],
   "source": [
    "for x in mydict:\n",
    "    print(mydict[x])"
   ]
  },
  {
   "cell_type": "markdown",
   "metadata": {},
   "source": [
    "There are other to iterate over dictionaries:"
   ]
  },
  {
   "cell_type": "code",
   "execution_count": 10,
   "metadata": {},
   "outputs": [
    {
     "name": "stdout",
     "output_type": "stream",
     "text": [
      "Washington\n",
      "DC\n",
      "20005\n"
     ]
    }
   ],
   "source": [
    "for x in mydict.values():\n",
    "    print(x)"
   ]
  },
  {
   "cell_type": "markdown",
   "metadata": {},
   "source": [
    "### Links to Learning Resources\n",
    "\n",
    "To get started I recommend <a href=\"https://www.w3schools.com\">w3schools.com</a>. Here you can find clear, concise, and interactive tutorials on the nuts and bolts of Python. \n",
    "\n",
    "I also recommend making use of these \"cheat sheets\":\n",
    "* <a href=\"https://github.com/ehmatthes/pcc/releases/download/v1.0.0/beginners_python_cheat_sheet_pcc.pdf\">Beginner Python</a>\n",
    "* <a href=\"https://github.com/ehmatthes/pcc/releases/download/v1.0.0/beginners_python_cheat_sheet_pcc_lists.pdf\">Lists</a>\n",
    "* <a href=\"https://github.com/ehmatthes/pcc/releases/download/v1.0.0/beginners_python_cheat_sheet_pcc_if_while.pdf\">Loops</a>\n",
    "* <a href=\"https://github.com/ehmatthes/pcc/releases/download/v1.0.0/beginners_python_cheat_sheet_pcc_functions.pdf\">Functions</a>\n",
    "* <a href=\"https://github.com/ehmatthes/pcc/releases/download/v1.0.0/beginners_python_cheat_sheet_pcc_dictionaries.pdf\">Dictionaries</a>\n",
    "* <a href=\"https://s3.amazonaws.com/assets.datacamp.com/blog_assets/Numpy_Python_Cheat_Sheet.pdf\">NumPy</a>\n",
    "* <a href=\"https://pandas.pydata.org/Pandas_Cheat_Sheet.pdf\">Pandas</a>\n",
    "* <a href=\"https://s3.amazonaws.com/assets.datacamp.com/blog_assets/Python_Matplotlib_Cheat_Sheet.pdf\">Matplotlib</a>\n"
   ]
  },
  {
   "cell_type": "code",
   "execution_count": null,
   "metadata": {},
   "outputs": [],
   "source": []
  }
 ],
 "metadata": {
  "kernelspec": {
   "display_name": "Python 3",
   "language": "python",
   "name": "python3"
  },
  "language_info": {
   "codemirror_mode": {
    "name": "ipython",
    "version": 3
   },
   "file_extension": ".py",
   "mimetype": "text/x-python",
   "name": "python",
   "nbconvert_exporter": "python",
   "pygments_lexer": "ipython3",
   "version": "3.7.6"
  }
 },
 "nbformat": 4,
 "nbformat_minor": 4
}
